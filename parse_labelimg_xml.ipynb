{
 "cells": [
  {
   "cell_type": "code",
   "execution_count": 1,
   "metadata": {},
   "outputs": [],
   "source": [
    "from data_generator.object_detection_2d_data_generator import DataGenerator"
   ]
  },
  {
   "cell_type": "code",
   "execution_count": 2,
   "metadata": {},
   "outputs": [],
   "source": [
    "val_dataset = DataGenerator(load_images_into_memory=True, hdf5_dataset_path=None)"
   ]
  },
  {
   "cell_type": "code",
   "execution_count": 3,
   "metadata": {},
   "outputs": [],
   "source": [
    "images_dir = '../datasets/rgbd/'"
   ]
  },
  {
   "cell_type": "code",
   "execution_count": null,
   "metadata": {},
   "outputs": [],
   "source": [
    "val_dataset.parse_labelimg_xml(images_dir=images_dir,\n",
    "                      labels_filename=val_labels_filename,\n",
    "                      input_format=['image_name', 'xmin', 'xmax', 'ymin', 'ymax', 'class_id'],\n",
    "                      include_classes='all')"
   ]
  },
  {
   "cell_type": "code",
   "execution_count": 22,
   "metadata": {},
   "outputs": [],
   "source": [
    "import os \n",
    "import numpy as np\n",
    "import tensorflow as tf"
   ]
  },
  {
   "cell_type": "code",
   "execution_count": 5,
   "metadata": {},
   "outputs": [],
   "source": [
    "\n",
    "dir_list = os.listdir(images_dir) "
   ]
  },
  {
   "cell_type": "code",
   "execution_count": 6,
   "metadata": {},
   "outputs": [],
   "source": [
    "dataset_size = len(dir_list)"
   ]
  },
  {
   "cell_type": "code",
   "execution_count": 7,
   "metadata": {},
   "outputs": [
    {
     "output_type": "stream",
     "name": "stdout",
     "text": "208\n"
    }
   ],
   "source": [
    "print(dataset_size)"
   ]
  },
  {
   "cell_type": "code",
   "execution_count": 10,
   "metadata": {},
   "outputs": [],
   "source": [
    "dataset_indices = np.arange(dataset_size, dtype=np.int32)"
   ]
  },
  {
   "cell_type": "code",
   "execution_count": 24,
   "metadata": {},
   "outputs": [],
   "source": [
    "idx = tf.random.shuffle(dataset_indices)\n",
    "split = -(round(len(idx)*0.2))\n",
    "train_idx = idx[:split]\n",
    "val_idx = idx[split:]\n",
    "\n",
    "\n",
    "\n",
    "        #     # x_data = tf.gather(x_data, idx)\n",
    "        #     if not (self.filenames is None):\n",
    "        #         self.filenames = tf.gather(self.filenames, idx).numpy()\n",
    "        #     if not (self.labels is None):\n",
    "        #         self.labels = tf.gather(self.labels, idx).numpy()\n",
    "        #     if not (self.image_ids is None):\n",
    "        #         self.image_ids = tf.gather(self.image_ids, idx).numpy()\n",
    "        #     if not (self.eval_neutral is None):\n",
    "        #         self.eval_neutral = tf.gather(self.eval_neutral, idx).numpy()"
   ]
  },
  {
   "cell_type": "code",
   "execution_count": 11,
   "metadata": {},
   "outputs": [],
   "source": [
    "toto =['a','b','c','d','e','f']"
   ]
  },
  {
   "cell_type": "code",
   "execution_count": 15,
   "metadata": {},
   "outputs": [
    {
     "output_type": "stream",
     "name": "stdout",
     "text": "['a', 'b', 'c', 'd']\n['e', 'f']\n"
    }
   ],
   "source": [
    "split = -(round(len(idx)*0.2))\n",
    "\n",
    "print(toto[:-2])\n",
    "print(toto[-2:])"
   ]
  },
  {
   "cell_type": "code",
   "execution_count": 18,
   "metadata": {},
   "outputs": [
    {
     "output_type": "stream",
     "name": "stdout",
     "text": "3\n"
    }
   ],
   "source": [
    "print(round(2.6))"
   ]
  },
  {
   "cell_type": "code",
   "execution_count": 19,
   "metadata": {},
   "outputs": [
    {
     "output_type": "error",
     "ename": "NameError",
     "evalue": "name 'idx' is not defined",
     "traceback": [
      "\u001b[0;31m---------------------------------------------------------------------------\u001b[0m",
      "\u001b[0;31mNameError\u001b[0m                                 Traceback (most recent call last)",
      "\u001b[0;32m<ipython-input-19-02e69b149a9f>\u001b[0m in \u001b[0;36m<module>\u001b[0;34m\u001b[0m\n\u001b[0;32m----> 1\u001b[0;31m \u001b[0msplit\u001b[0m \u001b[0;34m=\u001b[0m \u001b[0;34m-\u001b[0m\u001b[0;34m(\u001b[0m\u001b[0mround\u001b[0m\u001b[0;34m(\u001b[0m\u001b[0mlen\u001b[0m\u001b[0;34m(\u001b[0m\u001b[0midx\u001b[0m\u001b[0;34m)\u001b[0m\u001b[0;34m*\u001b[0m\u001b[0;36m0.2\u001b[0m\u001b[0;34m)\u001b[0m\u001b[0;34m)\u001b[0m\u001b[0;34m\u001b[0m\u001b[0;34m\u001b[0m\u001b[0m\n\u001b[0m",
      "\u001b[0;31mNameError\u001b[0m: name 'idx' is not defined"
     ]
    }
   ],
   "source": [
    "split = -(round(len(idx)*0.2))"
   ]
  },
  {
   "cell_type": "code",
   "execution_count": 28,
   "metadata": {},
   "outputs": [
    {
     "output_type": "stream",
     "name": "stdout",
     "text": "jpeg\njpeg\njpeg\njpeg\njpeg\njpeg\njpeg\njpeg\njpeg\njpeg\njpeg\njpeg\njpeg\njpeg\njpeg\njpeg\njpeg\njpeg\njpeg\njpeg\njpeg\njpeg\njpeg\njpeg\njpeg\njpeg\njpeg\njpeg\njpeg\njpeg\njpeg\njpeg\njpeg\njpeg\njpeg\njpeg\njpeg\njpeg\njpeg\njpeg\njpeg\njpeg\njpeg\njpeg\njpeg\njpeg\njpeg\njpeg\njpeg\njpeg\njpeg\njpeg\njpeg\njpeg\njpeg\njpeg\njpeg\njpeg\njpeg\njpeg\njpeg\njpeg\njpeg\njpeg\njpeg\njpeg\njpeg\njpeg\njpeg\njpeg\njpeg\njpeg\njpeg\njpeg\njpeg\njpeg\njpeg\njpeg\njpeg\njpeg\njpeg\njpeg\njpeg\njpeg\njpeg\njpeg\njpeg\njpeg\njpeg\njpeg\njpeg\njpeg\njpeg\njpeg\njpeg\njpeg\njpeg\njpeg\njpeg\njpeg\njpeg\njpeg\njpeg\njpeg\njpeg\njpeg\njpeg\njpeg\njpeg\njpeg\njpeg\njpeg\nepth\njpeg\njpeg\njpeg\njpeg\njpeg\njpeg\njpeg\njpeg\njpeg\njpeg\njpeg\njpeg\njpeg\njpeg\njpeg\njpeg\njpeg\njpeg\njpeg\njpeg\njpeg\njpeg\njpeg\njpeg\njpeg\njpeg\njpeg\njpeg\njpeg\njpeg\njpeg\njpeg\njpeg\njpeg\njpeg\njpeg\njpeg\njpeg\njpeg\njpeg\njpeg\njpeg\njpeg\njpeg\njpeg\njpeg\njpeg\njpeg\njpeg\njpeg\njpeg\njpeg\njpeg\n"
    }
   ],
   "source": [
    "with open('train.txt', 'a') as the_file:\n",
    "    for i in train_idx:\n",
    "        str(dir_list[i])[-4:]\n",
    "        if str(dir_list[i])[:-4]=='jpeg':\n",
    "            the_file.write(dir_list[i]+'\\n')"
   ]
  },
  {
   "cell_type": "code",
   "execution_count": null,
   "metadata": {},
   "outputs": [],
   "source": []
  }
 ],
 "metadata": {
  "language_info": {
   "codemirror_mode": {
    "name": "ipython",
    "version": 3
   },
   "file_extension": ".py",
   "mimetype": "text/x-python",
   "name": "python",
   "nbconvert_exporter": "python",
   "pygments_lexer": "ipython3",
   "version": "3.7.5-final"
  },
  "orig_nbformat": 2,
  "kernelspec": {
   "name": "python3",
   "display_name": "Python 3"
  }
 },
 "nbformat": 4,
 "nbformat_minor": 2
}